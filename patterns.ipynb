{
 "cells": [
  {
   "cell_type": "markdown",
   "metadata": {},
   "source": [
    "## Patterns"
   ]
  },
  {
   "attachments": {
    "image.png": {
     "image/png": "[encoded data removed]"
    }
   },
   "cell_type": "markdown",
   "metadata": {},
   "source": [
    "![image.png](attachment:image.png)"
   ]
  },
  {
   "cell_type": "code",
   "execution_count": 51,
   "metadata": {},
   "outputs": [
    {
     "name": "stdout",
     "output_type": "stream",
     "text": [
      "*****\n",
      "*****\n",
      "*****\n",
      "*****\n",
      "*****\n",
      " \n",
      "*****\n",
      "*****\n",
      "*****\n",
      "*****\n",
      "*****\n"
     ]
    }
   ],
   "source": [
    "def generate_pattern_brute_force(n: int):\n",
    "    for i in range(0,n):\n",
    "        for j in range(0,n):\n",
    "            print(\"*\",end=\"\")\n",
    "        print(\"\")\n",
    "\n",
    "generate_pattern_brute_force(5)\n",
    "\n",
    "print(\" \")\n",
    "\n",
    "def generate_pattern_optimal(n: int):\n",
    "    for i in range(0,n):\n",
    "        print(\"*\"*n)\n",
    "generate_pattern_optimal(5)"
   ]
  },
  {
   "attachments": {
    "image.png": {
     "image/png": "[encoded data removed]"
    }
   },
   "cell_type": "markdown",
   "metadata": {},
   "source": [
    "![image.png](attachment:image.png)"
   ]
  },
  {
   "cell_type": "code",
   "execution_count": 46,
   "metadata": {},
   "outputs": [
    {
     "name": "stdout",
     "output_type": "stream",
     "text": [
      "*\n",
      "**\n",
      "***\n",
      "****\n",
      "*****\n",
      " \n",
      "*\n",
      "**\n",
      "***\n",
      "****\n",
      "*****\n"
     ]
    }
   ],
   "source": [
    "def generate_pattern_brute_force(n: int):\n",
    "    for i in range(0,n):\n",
    "        for j in range(0,i+1):\n",
    "            print(\"*\",end=\"\")\n",
    "        print(\"\")\n",
    "generate_pattern_brute_force(5)\n",
    "\n",
    "print(\" \")\n",
    "\n",
    "def generate_pattern_optimal(n: int):\n",
    "    for i in range(0,n):\n",
    "        print(\"*\"*(i+1))\n",
    "generate_pattern_optimal(5)"
   ]
  },
  {
   "attachments": {
    "image.png": {
     "image/png": "[encoded data removed]"
    }
   },
   "cell_type": "markdown",
   "metadata": {},
   "source": [
    "![image.png](attachment:image.png)"
   ]
  },
  {
   "cell_type": "code",
   "execution_count": 21,
   "metadata": {},
   "outputs": [
    {
     "name": "stdout",
     "output_type": "stream",
     "text": [
      "1\n",
      "12\n",
      "123\n",
      "1234\n",
      "12345\n"
     ]
    }
   ],
   "source": [
    "def generate_pattern(n: int):\n",
    "    for i in range(0,n):\n",
    "        for j in range(0,i+1):\n",
    "            print(j+1,end=\"\")\n",
    "        print(\"\")\n",
    "\n",
    "generate_pattern(5)"
   ]
  },
  {
   "attachments": {
    "image.png": {
     "image/png": "[encoded data removed]"
    }
   },
   "cell_type": "markdown",
   "metadata": {},
   "source": [
    "![image.png](attachment:image.png)"
   ]
  },
  {
   "cell_type": "code",
   "execution_count": 22,
   "metadata": {},
   "outputs": [
    {
     "name": "stdout",
     "output_type": "stream",
     "text": [
      "1\n",
      "22\n",
      "333\n",
      "4444\n",
      "55555\n"
     ]
    }
   ],
   "source": [
    "def generate_pattern(n: int):\n",
    "    for i in range(0,n):\n",
    "        for j in range(0,i+1):\n",
    "            print(i+1,end=\"\")\n",
    "        print(\"\")\n",
    "\n",
    "generate_pattern(5)"
   ]
  },
  {
   "attachments": {
    "image.png": {
     "image/png": "[encoded data removed]"
    }
   },
   "cell_type": "markdown",
   "metadata": {},
   "source": [
    "![image.png](attachment:image.png)"
   ]
  },
  {
   "cell_type": "code",
   "execution_count": 47,
   "metadata": {},
   "outputs": [
    {
     "name": "stdout",
     "output_type": "stream",
     "text": [
      "*****\n",
      "****\n",
      "***\n",
      "**\n",
      "*\n",
      " \n",
      "***** \n",
      "****  \n",
      "***   \n",
      "**    \n",
      "*     \n"
     ]
    }
   ],
   "source": [
    "def generate_pattern_brute_force(n: int):\n",
    "    for i in range(0,n):\n",
    "        for j in range(i,n):\n",
    "            print(\"*\",end=\"\")\n",
    "        print(\"\")\n",
    "generate_pattern_brute_force(5)\n",
    "\n",
    "print(\" \")\n",
    "\n",
    "def generate_pattern_optimal(n: int):\n",
    "    for i in range(0,n):\n",
    "        print(\"*\"*(n-i)+\" \"*(i+1))\n",
    "generate_pattern_optimal(5)"
   ]
  },
  {
   "attachments": {
    "image.png": {
     "image/png": "[encoded data removed]"
    }
   },
   "cell_type": "markdown",
   "metadata": {},
   "source": [
    "![image.png](attachment:image.png)"
   ]
  },
  {
   "cell_type": "code",
   "execution_count": 48,
   "metadata": {},
   "outputs": [
    {
     "name": "stdout",
     "output_type": "stream",
     "text": [
      "12345\n",
      "2345\n",
      "345\n",
      "45\n",
      "5\n"
     ]
    }
   ],
   "source": [
    "def generate_pattern(n: int):\n",
    "    for i in range(0,n):\n",
    "        for j in range(i,n):\n",
    "            print(j+1,end=\"\")\n",
    "        print(\"\")\n",
    "\n",
    "generate_pattern(5)"
   ]
  },
  {
   "attachments": {
    "image.png": {
     "image/png": "[encoded data removed]"
    }
   },
   "cell_type": "markdown",
   "metadata": {},
   "source": [
    "![image.png](attachment:image.png)"
   ]
  },
  {
   "cell_type": "code",
   "execution_count": 52,
   "metadata": {},
   "outputs": [
    {
     "name": "stdout",
     "output_type": "stream",
     "text": [
      "     *\n",
      "    ***\n",
      "   *****\n",
      "  *******\n",
      " *********\n",
      " \n",
      "     *\n",
      "    ***\n",
      "   *****\n",
      "  *******\n",
      " *********\n"
     ]
    }
   ],
   "source": [
    "def generate_pattern_brute_force(n: int):\n",
    "    for i in range(0,n):\n",
    "        for j in range(i,n):\n",
    "            print(\" \",end=\"\")\n",
    "        for j in range(0,i):\n",
    "            print(\"*\",end=\"\")\n",
    "        for j in range(0,i+1):\n",
    "            print(\"*\",end=\"\") \n",
    "        print(\"\")\n",
    "generate_pattern_brute_force(5)\n",
    "\n",
    "print(\" \")\n",
    "\n",
    "def generate_pattern_optimal(n: int):\n",
    "    for i in range(0,n):\n",
    "        print(\" \"*(n-i) + \"*\"*(i+1)+\"*\"*(i))\n",
    "generate_pattern_optimal(5)"
   ]
  },
  {
   "attachments": {
    "image.png": {
     "image/png": "[encoded data removed]"
    }
   },
   "cell_type": "markdown",
   "metadata": {},
   "source": [
    "![image.png](attachment:image.png)"
   ]
  },
  {
   "cell_type": "code",
   "execution_count": 5,
   "metadata": {},
   "outputs": [
    {
     "name": "stdout",
     "output_type": "stream",
     "text": [
      " *********\n",
      "  *******\n",
      "   *****\n",
      "    ***\n",
      "     *\n",
      "\n",
      " *********\n",
      "  *******\n",
      "   *****\n",
      "    ***\n",
      "     *\n"
     ]
    }
   ],
   "source": [
    "def generate_pattern_brute_force(n: int):\n",
    "    for i in range(0,n):\n",
    "        for j in range(0,i+1):\n",
    "            print(\" \",end=\"\")\n",
    "        for j in range(i,n-1):\n",
    "            print(\"*\",end=\"\")\n",
    "        for j in range(i,n):\n",
    "            print(\"*\",end=\"\")\n",
    "        print(\"\")\n",
    "generate_pattern_brute_force(5)\n",
    "\n",
    "print(\"\")\n",
    "\n",
    "def generate_pattern_optimal(n: int):\n",
    "    for i in range(0,n):\n",
    "        print(\" \"*(i+1)+\"*\"*(n-i)+\"*\"*(n-i-1))\n",
    "generate_pattern_optimal(5)"
   ]
  },
  {
   "attachments": {
    "image.png": {
     "image/png": "[encoded data removed]"
    }
   },
   "cell_type": "markdown",
   "metadata": {},
   "source": [
    "![image.png](attachment:image.png)"
   ]
  },
  {
   "cell_type": "code",
   "execution_count": 24,
   "metadata": {},
   "outputs": [
    {
     "name": "stdout",
     "output_type": "stream",
     "text": [
      "     *\n",
      "    ***\n",
      "   *****\n",
      "  *******\n",
      " *********\n",
      " *********\n",
      "  *******\n",
      "   *****\n",
      "    ***\n",
      "     *\n",
      "\n",
      "     *\n",
      "    ***\n",
      "   *****\n",
      "  *******\n",
      " *********\n",
      " *********\n",
      "  *******\n",
      "   *****\n",
      "    ***\n",
      "     *\n"
     ]
    }
   ],
   "source": [
    "def generate_pattern_brute_force(n: int):\n",
    "    for i in range(0,n):\n",
    "        for j in range(0,n-i):\n",
    "            print(\" \",end=\"\")\n",
    "        for j in range(0,i+1):\n",
    "            print(\"*\",end=\"\")\n",
    "        for j in range(0, i):\n",
    "            print(\"*\",end=\"\")\n",
    "        print(\"\")\n",
    "    for i in range(0,n):\n",
    "        for j in range(0,i+1):\n",
    "            print(\" \",end=\"\")\n",
    "        for j in range(0,n-i):\n",
    "            print(\"*\",end=\"\")\n",
    "        for j in range(0,n-i-1):\n",
    "            print(\"*\",end=\"\")\n",
    "        print(\"\")\n",
    "generate_pattern_brute_force(5)\n",
    "\n",
    "print(\"\")\n",
    "\n",
    "def generate_pattern_optimal(n: int):\n",
    "    for i in range(0,n):\n",
    "        print(\" \"*(n-i)+\"*\"*(i+1)+\"*\"*(i))\n",
    "    for i in range(0,n):\n",
    "        print(\" \"*(i+1)+\"*\"*(n-i)+\"*\"*(n-i-1))\n",
    "generate_pattern_optimal(5)"
   ]
  },
  {
   "attachments": {
    "image.png": {
     "image/png": "[encoded data removed]"
    }
   },
   "cell_type": "markdown",
   "metadata": {},
   "source": [
    "![image.png](attachment:image.png)"
   ]
  },
  {
   "cell_type": "code",
   "execution_count": 30,
   "metadata": {},
   "outputs": [
    {
     "name": "stdout",
     "output_type": "stream",
     "text": [
      "*\n",
      "**\n",
      "***\n",
      "****\n",
      "*****\n",
      "****\n",
      "***\n",
      "**\n",
      "*\n",
      "\n",
      "\n",
      "*\n",
      "**\n",
      "***\n",
      "****\n",
      "*****\n",
      "****\n",
      "***\n",
      "**\n",
      "*\n",
      "\n"
     ]
    }
   ],
   "source": [
    "def generate_pattern_brute_force(n: int):\n",
    "    for i in range(0,n):\n",
    "        for j in range(0,i+1):\n",
    "            print(\"*\",end=\"\")\n",
    "        print(\"\")\n",
    "    for i in range(0,n):\n",
    "        for j in range(0,n-i-1):\n",
    "            print(\"*\",end=\"\")\n",
    "        print(\"\")\n",
    "generate_pattern_brute_force(5)\n",
    "\n",
    "print(\"\")\n",
    "\n",
    "def generate_pattern_optimal(n: int):\n",
    "    for i in range(0,n):\n",
    "        print(\"*\"*(i+1))\n",
    "    for i in range(0,n):\n",
    "        print(\"*\"*(n-i-1))\n",
    "generate_pattern_optimal(5)\n",
    "    "
   ]
  },
  {
   "attachments": {
    "image.png": {
     "image/png": "[encoded data removed]"
    }
   },
   "cell_type": "markdown",
   "metadata": {},
   "source": [
    "![image.png](attachment:image.png)"
   ]
  },
  {
   "cell_type": "code",
   "execution_count": 44,
   "metadata": {},
   "outputs": [
    {
     "name": "stdout",
     "output_type": "stream",
     "text": [
      "1 \n",
      "0 1 \n",
      "1 0 1 \n",
      "0 1 0 1 \n",
      "1 0 1 0 1 \n"
     ]
    }
   ],
   "source": [
    "def generate_pattern(n: int):\n",
    "    for i in range(n):\n",
    "        for j in range(i + 1):\n",
    "            print((i+j+1) % 2, end=\" \")\n",
    "        print(\"\")\n",
    "generate_pattern(5)      "
   ]
  },
  {
   "attachments": {
    "image.png": {
     "image/png": "[encoded data removed]"
    }
   },
   "cell_type": "markdown",
   "metadata": {},
   "source": [
    "![image.png](attachment:image.png)"
   ]
  },
  {
   "cell_type": "code",
   "execution_count": 36,
   "metadata": {},
   "outputs": [
    {
     "name": "stdout",
     "output_type": "stream",
     "text": [
      "1      1\n",
      "12    21\n",
      "123  321\n",
      "12344321\n",
      "\n",
      "1      1\n",
      "12    21\n",
      "123  321\n",
      "12344321\n"
     ]
    }
   ],
   "source": [
    "def generate_pattern(n: int):\n",
    "    for i in range(1,n+1):\n",
    "        for j in range(1,i+1):\n",
    "            print(j,end=\"\")\n",
    "        for j in range(2 * (n - i)):\n",
    "            print(\" \",end=\"\")\n",
    "        for j in range(i,0,-1):\n",
    "            print(j,end=\"\")\n",
    "        print(\"\")\n",
    "generate_pattern(4)\n",
    "\n",
    "print(\"\")\n",
    "\n",
    "def generate_pattern_optimal(n: int):\n",
    "    for i in range(1, n + 1):\n",
    "        inc_seq = ''.join(str(j) for j in range(1, i + 1))\n",
    "        spaces = ' ' * (2 * (n - i))\n",
    "        dec_seq = ''.join(str(j) for j in range(i, 0, -1))\n",
    "        print(inc_seq + spaces + dec_seq)\n",
    "generate_pattern_optimal(4)"
   ]
  },
  {
   "attachments": {
    "image.png": {
     "image/png": "[encoded data removed]"
    }
   },
   "cell_type": "markdown",
   "metadata": {},
   "source": [
    "![image.png](attachment:image.png)"
   ]
  },
  {
   "cell_type": "code",
   "execution_count": 42,
   "metadata": {},
   "outputs": [
    {
     "name": "stdout",
     "output_type": "stream",
     "text": [
      "1 \n",
      "2 3 \n",
      "4 5 6 \n",
      "7 8 9 10 \n",
      "11 12 13 14 15 \n"
     ]
    }
   ],
   "source": [
    "def generate_pattern(n: int):\n",
    "    current_num = 1\n",
    "    for i in range(0,n):       \n",
    "        for j in range(0,i+1):\n",
    "            print(current_num,end=\" \")\n",
    "            current_num+=1\n",
    "        print(\"\")\n",
    "generate_pattern(5)"
   ]
  },
  {
   "attachments": {
    "image.png": {
     "image/png": "[encoded data removed]"
    }
   },
   "cell_type": "markdown",
   "metadata": {},
   "source": [
    "![image.png](attachment:image.png)"
   ]
  },
  {
   "cell_type": "code",
   "execution_count": 51,
   "metadata": {},
   "outputs": [
    {
     "name": "stdout",
     "output_type": "stream",
     "text": [
      "A\n",
      "AB\n",
      "ABC\n",
      "ABCD\n",
      "ABCDE\n"
     ]
    }
   ],
   "source": [
    "def generate_pattern(n: int):\n",
    "    for i in range(0,n):\n",
    "        for j in range(65, 65+i+1):\n",
    "            print(chr(j),end=\"\")\n",
    "        print(\"\")\n",
    "generate_pattern(5)"
   ]
  },
  {
   "attachments": {
    "image.png": {
     "image/png": "[encoded data removed]"
    }
   },
   "cell_type": "markdown",
   "metadata": {},
   "source": [
    "![image.png](attachment:image.png)"
   ]
  },
  {
   "cell_type": "code",
   "execution_count": 61,
   "metadata": {},
   "outputs": [
    {
     "name": "stdout",
     "output_type": "stream",
     "text": [
      "ABCDE\n",
      "ABCD\n",
      "ABC\n",
      "AB\n",
      "A\n"
     ]
    }
   ],
   "source": [
    "def generate_pattern(n: int):\n",
    "    for i in range(0,n):\n",
    "        for j in range(0,n-i):\n",
    "            print(chr(65+j),end=\"\")\n",
    "        print(\"\")\n",
    "generate_pattern(5)"
   ]
  },
  {
   "attachments": {
    "image.png": {
     "image/png": "[encoded data removed]"
    }
   },
   "cell_type": "markdown",
   "metadata": {},
   "source": [
    "![image.png](attachment:image.png)"
   ]
  },
  {
   "cell_type": "code",
   "execution_count": 64,
   "metadata": {},
   "outputs": [
    {
     "name": "stdout",
     "output_type": "stream",
     "text": [
      "A\n",
      "BB\n",
      "CCC\n",
      "DDDD\n",
      "EEEEE\n",
      "\n",
      "A\n",
      "BB\n",
      "CCC\n",
      "DDDD\n",
      "EEEEE\n"
     ]
    }
   ],
   "source": [
    "def generate_pattern_brute_force(n: int):\n",
    "    for i in range(0,n):\n",
    "        for j in range(0,i+1):\n",
    "            print(chr(65+i),end=\"\")\n",
    "        print(\"\")\n",
    "generate_pattern_brute_force(5)\n",
    "\n",
    "print(\"\")\n",
    "\n",
    "def generate_pattern_optimal(n: int):\n",
    "    for i in range(0,n):\n",
    "        print(chr(65+i)*(i+1))\n",
    "generate_pattern_optimal(5) "
   ]
  },
  {
   "attachments": {
    "image.png": {
     "image/png": "[encoded data removed]"
    }
   },
   "cell_type": "markdown",
   "metadata": {},
   "source": [
    "![image.png](attachment:image.png)"
   ]
  },
  {
   "cell_type": "code",
   "execution_count": 74,
   "metadata": {},
   "outputs": [
    {
     "name": "stdout",
     "output_type": "stream",
     "text": [
      "   A\n",
      "  ABA\n",
      " ABCBA\n",
      "ABCDCBA\n",
      "\n",
      "   A\n",
      "  ABA\n",
      " ABCBA\n",
      "ABCDCBA\n"
     ]
    }
   ],
   "source": [
    "def generate_pattern_brute_force(n: int):\n",
    "    for i in range(0,n):\n",
    "        for j in range(0,n-i-1):\n",
    "            print(\" \",end=\"\")\n",
    "        for j in range(0,i+1):\n",
    "            print(chr(65+j),end=\"\")\n",
    "        for j in range(i,0,-1):\n",
    "            print(chr(65+j-1),end=\"\")\n",
    "        print(\"\")\n",
    "generate_pattern_brute_force(4)\n",
    "\n",
    "print(\"\")\n",
    "\n",
    "def generate_pattern_optimal(n: int):\n",
    "    for i in range(0,n):\n",
    "        print(\" \"*(n-i-1)+\"\".join(chr(65+j) for j in range(0,i+1))+\"\".join(chr(65+j-1) for j in range(i,0,-1)))\n",
    "generate_pattern_optimal(4)"
   ]
  },
  {
   "attachments": {
    "image.png": {
     "image/png": "[encoded data removed]"
    }
   },
   "cell_type": "markdown",
   "metadata": {},
   "source": [
    "![image.png](attachment:image.png)"
   ]
  },
  {
   "cell_type": "code",
   "execution_count": 83,
   "metadata": {},
   "outputs": [
    {
     "name": "stdout",
     "output_type": "stream",
     "text": [
      "E \n",
      "D E \n",
      "C D E \n",
      "B C D E \n",
      "A B C D E \n"
     ]
    }
   ],
   "source": [
    "def generate_pattern(n: int):\n",
    "    for i in range(0,n):\n",
    "        for j in range(i+1,0, -1):\n",
    "            print(chr(65+n-j), end=\" \")\n",
    "        print(\"\")\n",
    "generate_pattern(5)"
   ]
  },
  {
   "attachments": {
    "image.png": {
     "image/png": "[encoded data removed]"
    }
   },
   "cell_type": "markdown",
   "metadata": {},
   "source": [
    "![image.png](attachment:image.png)"
   ]
  },
  {
   "cell_type": "code",
   "execution_count": 94,
   "metadata": {},
   "outputs": [
    {
     "name": "stdout",
     "output_type": "stream",
     "text": [
      "************\n",
      "*****  *****\n",
      "****    ****\n",
      "***      ***\n",
      "**        **\n",
      "*          *\n",
      "*          *\n",
      "**        **\n",
      "***      ***\n",
      "****    ****\n",
      "*****  *****\n",
      "************\n",
      "\n",
      "************\n",
      "*****  *****\n",
      "****    ****\n",
      "***      ***\n",
      "**        **\n",
      "*          *\n",
      "*          *\n",
      "**        **\n",
      "***      ***\n",
      "****    ****\n",
      "*****  *****\n",
      "************\n"
     ]
    }
   ],
   "source": [
    "def generate_pattern_brute_force(n: int):\n",
    "    for i in range(0,n):\n",
    "        for j in range(n,i,-1):\n",
    "            print(\"*\",end=\"\")\n",
    "        for j in range(0,i*2):\n",
    "            print(\" \",end=\"\")\n",
    "        for j in range(n,i,-1):\n",
    "            print(\"*\",end=\"\")\n",
    "        print(\"\")\n",
    "    for i in range(0,n):\n",
    "        for j in range(0,i+1):\n",
    "            print(\"*\",end=\"\")\n",
    "        for j in range(0,(n-i-1)*2):\n",
    "            print(\" \",end=\"\")\n",
    "        for j in range(0,i+1):\n",
    "            print(\"*\",end=\"\")\n",
    "        print(\"\")\n",
    "generate_pattern_brute_force(6)\n",
    "\n",
    "print(\"\")\n",
    "\n",
    "def generate_pattern_optimal(n: int):\n",
    "    for i in range(0,n):\n",
    "        print(\"*\"*(n-i)+\" \"*(i*2)+\"*\"*(n-i))\n",
    "    for i in range(0,n):\n",
    "        print(\"*\"*(i+1)+\" \"*(n-i-1)*2+\"*\"*(i+1))\n",
    "generate_pattern_optimal(6)\n"
   ]
  },
  {
   "attachments": {
    "image.png": {
     "image/png": "[encoded data removed]"
    }
   },
   "cell_type": "markdown",
   "metadata": {},
   "source": [
    "![image.png](attachment:image.png)"
   ]
  },
  {
   "cell_type": "code",
   "execution_count": 120,
   "metadata": {},
   "outputs": [
    {
     "name": "stdout",
     "output_type": "stream",
     "text": [
      "*        *\n",
      "**      **\n",
      "***    ***\n",
      "****  ****\n",
      "**********\n",
      "****  ****\n",
      "***    ***\n",
      "**      **\n",
      "*        *\n",
      "          \n",
      "\n",
      "*        *\n",
      "**      **\n",
      "***    ***\n",
      "****  ****\n",
      "**********\n",
      "****  ****\n",
      "***    ***\n",
      "**      **\n",
      "*        *\n",
      "          \n"
     ]
    }
   ],
   "source": [
    "def generate_pattern_brute_force(n: int):\n",
    "    for i in range(0,n):\n",
    "        for j in range(0,i+1):\n",
    "            print(\"*\",end=\"\")\n",
    "        for j in range(0,(n-i-1)*2):\n",
    "            print(\" \",end=\"\")\n",
    "        for j in range(0,i+1):\n",
    "            print(\"*\",end=\"\")\n",
    "        print(\"\")\n",
    "    for i in range(0,n):\n",
    "        for j in range(n-1,i,-1):\n",
    "            print(\"*\",end=\"\")\n",
    "        for j in range(0,(i+1)*2):\n",
    "            print(\" \",end=\"\")\n",
    "        for j in range(n-1,i,-1):\n",
    "            print(\"*\",end=\"\")\n",
    "        print(\"\")\n",
    "generate_pattern_brute_force(5)\n",
    "\n",
    "print(\"\")\n",
    "\n",
    "def generate_pattern_optimal(n: int):\n",
    "    for i in range(0,n):\n",
    "        print(\"*\"*(i+1)+\" \"*((n-i-1)*2)+\"*\"*(i+1))\n",
    "    for i in range(0,n):\n",
    "        print(\"*\"*(n-i-1)+\" \"*((i+1)*2)+\"*\"*(n-i-1))\n",
    "generate_pattern_optimal(5)\n",
    "        "
   ]
  },
  {
   "attachments": {
    "image.png": {
     "image/png": "[encoded data removed]"
    }
   },
   "cell_type": "markdown",
   "metadata": {},
   "source": [
    "![image.png](attachment:image.png)"
   ]
  },
  {
   "cell_type": "code",
   "execution_count": 143,
   "metadata": {},
   "outputs": [
    {
     "name": "stdout",
     "output_type": "stream",
     "text": [
      "****\n",
      "*  *\n",
      "*  *\n",
      "****\n"
     ]
    }
   ],
   "source": [
    "def generate_pattern(n: int):\n",
    "    for i in range(0,n):\n",
    "            for j in range(0,n):\n",
    "                if i == 0 or j == 0 or i == n - 1 or j == n - 1: \n",
    "                    print(\"*\",end=\"\")\n",
    "                else:\n",
    "                    print(\" \",end=\"\")\n",
    "            print(\"\")\n",
    "generate_pattern(4)"
   ]
  },
  {
   "attachments": {
    "image.png": {
     "image/png": "[encoded data removed]"
    }
   },
   "cell_type": "markdown",
   "metadata": {},
   "source": [
    "![image.png](attachment:image.png)"
   ]
  },
  {
   "cell_type": "code",
   "execution_count": 147,
   "metadata": {},
   "outputs": [
    {
     "name": "stdout",
     "output_type": "stream",
     "text": [
      "4 4 4 4 \n",
      "4     4 \n",
      "4     4 \n",
      "4 4 4 4 \n"
     ]
    }
   ],
   "source": [
    "def generate_pattern(n: int):\n",
    "    for i in range(0,n):\n",
    "        for j in range(0,n):\n",
    "            if  i == 0 or j == 0 or i == n - 1 or j == n - 1:\n",
    "                print(n,end=\" \")\n",
    "            else:\n",
    "                print(\" \", end=\" \")\n",
    "        print(\"\") \n",
    "generate_pattern(4)"
   ]
  }
 ],
 "metadata": {
  "kernelspec": {
   "display_name": "Python 3",
   "language": "python",
   "name": "python3"
  },
  "language_info": {
   "codemirror_mode": {
    "name": "ipython",
    "version": 3
   },
   "file_extension": ".py",
   "mimetype": "text/x-python",
   "name": "python",
   "nbconvert_exporter": "python",
   "pygments_lexer": "ipython3",
   "version": "3.12.3"
  }
 },
 "nbformat": 4,
 "nbformat_minor": 2
}
