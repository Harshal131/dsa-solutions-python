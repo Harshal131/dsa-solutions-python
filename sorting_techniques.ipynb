{
 "cells": [
  {
   "cell_type": "markdown",
   "metadata": {},
   "source": [
    "## Selection Sort"
   ]
  },
  {
   "cell_type": "markdown",
   "metadata": {},
   "source": [
    "#### Problem Statement: Given an array of N integers, write a program to implement the Selection sorting algorithm.\n",
    "\n",
    "Examples:\n",
    "\n",
    "Example 1:\n",
    "Input: N = 6, array[] = {13,46,24,52,20,9}\n",
    "Output: 9,13,20,24,46,52\n",
    "Explanation: After sorting the array is: 9, 13, 20, 24, 46, 52\n",
    "\n",
    "Example 2:\n",
    "Input: N=5, array[] = {5,4,3,2,1}\n",
    "Output: 1,2,3,4,5\n",
    "Explanation: After sorting the array is: 1, 2, 3, 4, 5"
   ]
  },
  {
   "cell_type": "code",
   "execution_count": 12,
   "metadata": {},
   "outputs": [
    {
     "data": {
      "text/plain": [
       "[9, 13, 20, 24, 46, 52]"
      ]
     },
     "execution_count": 12,
     "metadata": {},
     "output_type": "execute_result"
    }
   ],
   "source": [
    "n = 6\n",
    "arr = [13,46,24,52,20,9] \n",
    "\n",
    "def selection_sort(arr,n):\n",
    "    for i in range(n):\n",
    "        current_min_index = i\n",
    "        for i in range(i+1,n):\n",
    "            if arr[i] < arr[current_min_index]:\n",
    "                arr[current_min_index],arr[i] = arr[i],arr[current_min_index]\n",
    "    return(arr)\n",
    "selection_sort(arr,n)"
   ]
  },
  {
   "cell_type": "markdown",
   "metadata": {},
   "source": [
    "## Bubble Sort"
   ]
  },
  {
   "cell_type": "markdown",
   "metadata": {},
   "source": [
    "#### Problem Statement: Given an array of N integers, write a program to implement the Bubble Sorting algorithm.\n",
    "\n",
    "Examples:\n",
    "\n",
    "Example 1:\n",
    "Input: N = 6, array[] = {13,46,24,52,20,9}\n",
    "Output: 9,13,20,24,46,52\n",
    "Explanation: After sorting we get 9,13,20,24,46,52\n",
    "\n",
    "\n",
    "Input: N = 5, array[] = {5,4,3,2,1}\n",
    "Output: 1,2,3,4,5\n",
    "Explanation: After sorting we get 1,2,3,4,5"
   ]
  },
  {
   "cell_type": "code",
   "execution_count": 15,
   "metadata": {},
   "outputs": [
    {
     "data": {
      "text/plain": [
       "[9, 13, 20, 24, 46, 52]"
      ]
     },
     "execution_count": 15,
     "metadata": {},
     "output_type": "execute_result"
    }
   ],
   "source": [
    "n = 6\n",
    "arr = [13,46,24,52,20,9] \n",
    "\n",
    "def bubble_sort(arr,n):\n",
    "    for i in range(n):\n",
    "        for j in range(i+1,n):\n",
    "            first_value,second_value = j,j+1\n",
    "            if arr[first_value] < arr[second_value]:\n",
    "                arr[first_value] , arr[second_value]  = arr[second_value] , arr[first_value]\n",
    "    return arr\n",
    "\n",
    "selection_sort(arr,n)"
   ]
  },
  {
   "cell_type": "markdown",
   "metadata": {},
   "source": [
    "## Insertion Sort"
   ]
  },
  {
   "cell_type": "markdown",
   "metadata": {},
   "source": [
    "#### Problem Statement: Given an array of N integers, write a program to implement the Insertion sorting algorithm.\n",
    "\n",
    "Examples:\n",
    "\n",
    "Example 1:\n",
    "Input: N = 6, array[] = {13,46,24,52,20,9}\n",
    "Output: 9,13,20,24,46,52\n",
    "Explanation: \n",
    "After sorting the array is: 9,13,20,24,46,52\n",
    "\n",
    "\n",
    "Example 2:\n",
    "Input: N=5, array[] = {5,4,3,2,1}\n",
    "Output: 1,2,3,4,5\n",
    "Explanation: After sorting the array is: 1,2,3,4,5"
   ]
  },
  {
   "cell_type": "code",
   "execution_count": 1,
   "metadata": {},
   "outputs": [
    {
     "data": {
      "text/plain": [
       "[9, 13, 20, 24, 46, 52]"
      ]
     },
     "execution_count": 1,
     "metadata": {},
     "output_type": "execute_result"
    }
   ],
   "source": [
    "n = 6\n",
    "arr = [13,46,24,52,20,9] \n",
    "def insertion_sort(arr,n):\n",
    "    for i in range(1,n):\n",
    "        j = i\n",
    "        while arr[j-1] > arr[j] and j > 0:\n",
    "            arr[j-1],arr[j] = arr[j],arr[j-1]\n",
    "            j-=1\n",
    "    return arr\n",
    "\n",
    "insertion_sort(arr,n)"
   ]
  },
  {
   "cell_type": "markdown",
   "metadata": {},
   "source": [
    "## Merge Sort\n",
    "#### Problem:  Given an array of size n, sort the array using Merge Sort.\n",
    "\n",
    "Examples:\n",
    "\n",
    "Example 1:\n",
    "Input: N=5, arr[]={4,2,1,6,7}\n",
    "Output: 1,2,4,6,7,\n",
    "\n",
    "\n",
    "Example 2:\n",
    "Input: N=7,arr[]={3,2,8,5,1,4,23}\n",
    "Output: 1,2,3,4,5,8,23"
   ]
  },
  {
   "cell_type": "code",
   "execution_count": 8,
   "metadata": {},
   "outputs": [
    {
     "data": {
      "text/plain": [
       "[1, 2, 4, 6, 7]"
      ]
     },
     "execution_count": 8,
     "metadata": {},
     "output_type": "execute_result"
    }
   ],
   "source": [
    "n = 5\n",
    "arr = [4,2,1,6,7]\n",
    "def merge_sort(arr,n):\n",
    "    if n>1:\n",
    "        mid = n // 2\n",
    "        left_arr = arr[:mid]\n",
    "        right_arr = arr[mid:]\n",
    "        merge_sort(left_arr,len(left_arr))\n",
    "        merge_sort(right_arr,len(right_arr))\n",
    "\n",
    "        i=j=k=0\n",
    "\n",
    "        while i<len(left_arr) and j < len(right_arr):\n",
    "            if left_arr[i] < right_arr[j]:\n",
    "                arr[k] = left_arr[i]\n",
    "                i+=1\n",
    "            else:\n",
    "                arr[k] = right_arr[j]\n",
    "                j+=1\n",
    "            k+=1\n",
    "\n",
    "        while i<len(left_arr):\n",
    "            arr[k] = left_arr[i]\n",
    "            i+=1\n",
    "            k+=1\n",
    "        \n",
    "        while j<len(right_arr):\n",
    "            arr[k] = right_arr[j]\n",
    "            j+=1\n",
    "            k+=1\n",
    "    return arr\n",
    "merge_sort(arr,n)"
   ]
  },
  {
   "cell_type": "markdown",
   "metadata": {},
   "source": [
    "## Quick Sort\n",
    "\n",
    "#### Problem Statement:  Given an array of n integers, sort the array using the Quicksort method.\n",
    "\n",
    "Examples:\n",
    "\n",
    "Example 1:\n",
    "Input:  N = 5  , Arr[] = {4,1,7,9,3}\n",
    "Output: 1 3 4 7 9 \n",
    "\n",
    "Explanation: After sorting the array becomes 1, 3, 4, 7, 9\n",
    "\n",
    "Example 2:\n",
    "Input: N = 8 , Arr[] = {4,6,2,5,7,9,1,3}\n",
    "Output: 1 2 3 4 5 6 7 9\n",
    "Explanation: After sorting the array becomes 1, 3, 4, 7, 9"
   ]
  },
  {
   "cell_type": "code",
   "execution_count": 21,
   "metadata": {},
   "outputs": [
    {
     "name": "stdout",
     "output_type": "stream",
     "text": [
      "[1, 3, 4, 7, 9]\n"
     ]
    }
   ],
   "source": [
    "n = 5\n",
    "arr = [4,1,7,9,3]\n",
    "def quick_sort(arr,left,right):\n",
    "    if left < right:\n",
    "        partition_position = partition(arr,left,right)\n",
    "        quick_sort(arr,left,partition_position-1)\n",
    "        quick_sort(arr,partition_position+1,right)\n",
    "\n",
    "def partition(arr,left,right):\n",
    "    i = left\n",
    "    j = right - 1\n",
    "    pivot = arr[right]\n",
    "\n",
    "    while i<j:\n",
    "        while i < right and arr[i] < pivot:\n",
    "            i+=1\n",
    "        \n",
    "        while j > left and arr[j] > pivot:\n",
    "            j-=1\n",
    "        if i < j:\n",
    "            arr[i],arr[j] = arr[j],arr[i]\n",
    "    if arr[i] > pivot:\n",
    "        arr[i],arr[right] =  arr[right],arr[i]\n",
    "    return i\n",
    "\n",
    "quick_sort(arr,0,n-1)\n",
    "print(arr)\n"
   ]
  },
  {
   "cell_type": "markdown",
   "metadata": {},
   "source": [
    "## Recursive Bubble Sort\n",
    "\n",
    "#### Problem Statement: Given an array of N integers, write a program to implement the Recursive Bubble Sort algorithm.\n",
    "\n",
    "Examples:\n",
    "\n",
    "Example 1:\n",
    "Input: N = 6, array[] = {13,46,24,52,20,9}\n",
    "Output: 9,13,20,24,46,52\n",
    "Explanation: After sorting we get 9,13,20,24,46,52\n",
    "\n",
    "Example 2:\n",
    "Input: N = 5, array[] = {5,4,3,2,1}\n",
    "Output: 1,2,3,4,5\n",
    "Explanation: After sorting we get 1,2,3,4,5"
   ]
  },
  {
   "cell_type": "code",
   "execution_count": 13,
   "metadata": {},
   "outputs": [
    {
     "data": {
      "text/plain": [
       "[9, 13, 20, 24, 46, 52]"
      ]
     },
     "execution_count": 13,
     "metadata": {},
     "output_type": "execute_result"
    }
   ],
   "source": [
    "n = 6\n",
    "arr  = [13,46,24,52,20,9]\n",
    "def recursive_bubble_sort(arr,n): \n",
    "    if n == 1:\n",
    "        return arr\n",
    "    for i in range(n-1):\n",
    "        if arr[i] > arr[i+1]:\n",
    "            arr[i],arr[i+1] = arr[i+1],arr[i]\n",
    "    return recursive_bubble_sort(arr,n-1)\n",
    "recursive_bubble_sort(arr,n)"
   ]
  }
 ],
 "metadata": {
  "kernelspec": {
   "display_name": "Python 3",
   "language": "python",
   "name": "python3"
  },
  "language_info": {
   "codemirror_mode": {
    "name": "ipython",
    "version": 3
   },
   "file_extension": ".py",
   "mimetype": "text/x-python",
   "name": "python",
   "nbconvert_exporter": "python",
   "pygments_lexer": "ipython3",
   "version": "3.12.3"
  }
 },
 "nbformat": 4,
 "nbformat_minor": 2
}
