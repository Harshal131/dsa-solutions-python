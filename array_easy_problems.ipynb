{
 "cells": [
  {
   "cell_type": "markdown",
   "metadata": {},
   "source": [
    "## Find the Largest element in an array"
   ]
  },
  {
   "cell_type": "markdown",
   "metadata": {},
   "source": [
    "#### Problem Statement: Given an array, we have to find the largest element in the array.\n",
    "Example 1:\n",
    "Input:\n",
    " arr[] = {2,5,1,3,0};\n",
    "Output:\n",
    " 5\n",
    "Explanation:\n",
    " 5 is the largest element in the array. \n",
    "\n",
    "Example2:\n",
    "Input:\n",
    " arr[] = {8,10,5,7,9};\n",
    "Output:\n",
    " 10\n",
    "Explanation:\n",
    " 10 is the largest element in the array. "
   ]
  },
  {
   "cell_type": "code",
   "execution_count": 40,
   "metadata": {},
   "outputs": [
    {
     "data": {
      "text/plain": [
       "5"
      ]
     },
     "execution_count": 40,
     "metadata": {},
     "output_type": "execute_result"
    }
   ],
   "source": [
    "arr = [2,5,1,3,0]\n",
    "\n",
    "def find_largest_element(arr):\n",
    "    current_max = arr[0]\n",
    "    for i in arr:\n",
    "        if i > current_max:\n",
    "            current_max = i\n",
    "    return current_max\n",
    "\n",
    "find_largest_element(arr)"
   ]
  },
  {
   "cell_type": "markdown",
   "metadata": {},
   "source": [
    "## Find Second Smallest and Second Largest Element in an array"
   ]
  },
  {
   "cell_type": "markdown",
   "metadata": {},
   "source": [
    "#### Problem Statement: Given an array, find the second smallest and second largest element in the array. Print ‘-1’ in the event that either of them doesn’t exist.\n",
    "\n",
    "Example 1:\n",
    "Input:\n",
    " [1,2,4,7,7,5]\n",
    "Output:\n",
    " Second Smallest : 2\n",
    "\tSecond Largest : 5\n",
    "Explanation:\n",
    " The elements are as follows 1,2,3,5,7,7 and hence second largest of these is 5 and second smallest is 2\n",
    "\n",
    "Example 2:\n",
    "Input:\n",
    " [1]\n",
    "Output:\n",
    " Second Smallest : -1\n",
    "\tSecond Largest : -1\n",
    "Explanation:\n",
    " Since there is only one element in the array, it is the largest and smallest element present in the array. There is no second largest or second smallest element present."
   ]
  },
  {
   "cell_type": "code",
   "execution_count": 41,
   "metadata": {},
   "outputs": [
    {
     "data": {
      "text/plain": [
       "'Second Smallest :2 Second Largest :5'"
      ]
     },
     "execution_count": 41,
     "metadata": {},
     "output_type": "execute_result"
    }
   ],
   "source": [
    "arr = [1,2,4,7,7,5]\n",
    "\n",
    "def find_second_smallest_and_largest_elements(arr):\n",
    "    \n",
    "    smallest = float('inf')\n",
    "    second_smallest = float('inf')\n",
    "    largest = float('-inf')\n",
    "    second_largest = float('-inf')\n",
    "\n",
    "    if len(arr) < 2 :\n",
    "        return f\"Second Smallest :{-1} Second Largest: {-1}\"\n",
    "\n",
    "    for i in arr:\n",
    "        if i < smallest:\n",
    "            second_smallest = smallest\n",
    "            smallest = i\n",
    "        elif i < second_smallest and i != smallest:\n",
    "            second_smallest = i\n",
    "\n",
    "        if i > largest:\n",
    "            second_largest = largest\n",
    "            largest = i\n",
    "        elif i > second_largest and i != largest:\n",
    "            second_largest = i\n",
    "            \n",
    "    return f\"Second Smallest :{second_smallest} Second Largest :{second_largest}\"\n",
    "\n",
    "find_second_smallest_and_largest_elements(arr)"
   ]
  },
  {
   "cell_type": "markdown",
   "metadata": {},
   "source": [
    "## Check if an Array is Sorted"
   ]
  },
  {
   "cell_type": "markdown",
   "metadata": {},
   "source": [
    "#### Problem Statement: Given an array of size n, write a program to check if the given array is sorted in (ascending / Increasing / Non-decreasing) order or not. If the array is sorted then return True, Else return False.\n",
    "\n",
    "Note: Two consecutive equal values are considered to be sorted.\n",
    "\n",
    "Example 1:\n",
    "Input:\n",
    " N = 5, array[] = {1,2,3,4,5}\n",
    "Output\n",
    ": True.\n",
    "Explanation:\n",
    " The given array is sorted i.e Every element in the array is smaller than or equals to its next values, So the answer is True.\n",
    "\n",
    "\n",
    "Example 2:\n",
    "Input:\n",
    " N = 5, array[] = {5,4,6,7,8}\n",
    "Output\n",
    ": False.\n",
    "Explanation:\n",
    " The given array is Not sorted i.e Every element in the array is not smaller than or equal to its next values, So the answer is False."
   ]
  },
  {
   "cell_type": "code",
   "execution_count": 42,
   "metadata": {},
   "outputs": [
    {
     "data": {
      "text/plain": [
       "True"
      ]
     },
     "execution_count": 42,
     "metadata": {},
     "output_type": "execute_result"
    }
   ],
   "source": [
    "def is_sorted(arr):\n",
    "    for i in range(0,len(arr)-1):\n",
    "        if arr[i] > arr[i+1]:\n",
    "            return False\n",
    "    return True\n",
    "\n",
    "arr = [1,2,3,4,5]\n",
    "is_sorted(arr)"
   ]
  },
  {
   "cell_type": "markdown",
   "metadata": {},
   "source": [
    "## Left Rotate the Array by One"
   ]
  },
  {
   "cell_type": "markdown",
   "metadata": {},
   "source": [
    "#### Problem Statement: Given an array of N integers, left rotate the array by one place.\n",
    "Example 1:\n",
    "Input:\n",
    " N = 5, array[] = {1,2,3,4,5}\n",
    "Output:\n",
    " 2,3,4,5,1\n",
    "Explanation:\n",
    " \n",
    "Since all the elements in array will be shifted \n",
    "toward left by one so ‘2’ will now become the \n",
    "first index and and ‘1’ which was present at \n",
    "first index will be shifted at last.\n",
    "\n",
    "\n",
    "Example 2:\n",
    "Input:\n",
    " N = 1, array[] = {3}\n",
    "Output:\n",
    " 3\n",
    "Explanation:\n",
    " Here only element is present and so \n",
    "the element at first index will be shifted to \n",
    "last index which is also by the way the first index."
   ]
  },
  {
   "cell_type": "code",
   "execution_count": 43,
   "metadata": {},
   "outputs": [
    {
     "data": {
      "text/plain": [
       "[2, 3, 4, 5, 1]"
      ]
     },
     "execution_count": 43,
     "metadata": {},
     "output_type": "execute_result"
    }
   ],
   "source": [
    "def left_rotate(arr,n):\n",
    "    tmp = arr[0]\n",
    "    for i in range(n-1):\n",
    "        arr[i] = arr[i+1]\n",
    "    arr[n-1] = tmp      \n",
    "    return arr\n",
    "\n",
    "arr = [1,2,3,4,5]\n",
    "n = 5\n",
    "left_rotate(arr,5)"
   ]
  },
  {
   "cell_type": "markdown",
   "metadata": {},
   "source": [
    "## Rotate array by K elements"
   ]
  },
  {
   "cell_type": "markdown",
   "metadata": {},
   "source": [
    "#### Problem Statement: Given an array of integers, rotating array of elements by k elements either left or right.\n",
    "\n",
    "Examples:\n",
    "\n",
    "Example 1:\n",
    "Input: N = 7, array[] = {1,2,3,4,5,6,7} , k=2 , right\n",
    "Output: 6 7 1 2 3 4 5\n",
    "Explanation: array is rotated to right by 2 position .\n",
    "\n",
    "Example 2:\n",
    "Input: N = 6, array[] = {3,7,8,9,10,11} , k=3 , left \n",
    "Output: 9 10 11 3 7 8\n",
    "Explanation: Array is rotated to right by 3 position."
   ]
  },
  {
   "cell_type": "code",
   "execution_count": 44,
   "metadata": {},
   "outputs": [
    {
     "data": {
      "text/plain": [
       "[9, 10, 11, 3, 7, 8]"
      ]
     },
     "execution_count": 44,
     "metadata": {},
     "output_type": "execute_result"
    }
   ],
   "source": [
    "def swap(arr,left,right):\n",
    "    while left < right:\n",
    "            arr[left],arr[right] = arr[right],arr[left]\n",
    "            left+=1\n",
    "            right-=1\n",
    "    return arr\n",
    "\n",
    "def rotate(arr,k,rotate):\n",
    "    if rotate == 'left':\n",
    "        left, right = 0, k-1\n",
    "        swap(arr,left,right)\n",
    "        \n",
    "        left,right = k, len(arr)-1\n",
    "        swap(arr,left,right)\n",
    "        \n",
    "        left,right = 0,len(arr)-1\n",
    "        swap(arr,left,right)\n",
    "    else:\n",
    "        left, right = len(arr)-k, len(arr)-1\n",
    "        swap(arr,left,right)\n",
    "        \n",
    "        left,right = 0, len(arr)-k-1\n",
    "        swap(arr,left,right)\n",
    "        \n",
    "        left,right = 0,len(arr)-1\n",
    "        swap(arr,left,right)\n",
    "    return arr\n",
    "\n",
    "arr = [3,7,8,9,10,11]\n",
    "k = 3\n",
    "rotate(arr,k,rotate='left') "
   ]
  },
  {
   "cell_type": "markdown",
   "metadata": {},
   "source": [
    "## Move all Zeros to the end of the array"
   ]
  },
  {
   "cell_type": "markdown",
   "metadata": {},
   "source": [
    "#### Problem Statement: You are given an array of integers, your task is to move all the zeros in the array to the end of the array and move non-negative integers to the front by maintaining their order.\n",
    "\n",
    "Examples\n",
    "Example 1:\n",
    "Input:\n",
    " 1 ,0 ,2 ,3 ,0 ,4 ,0 ,1\n",
    "Output:\n",
    " 1 ,2 ,3 ,4 ,1 ,0 ,0 ,0\n",
    "Explanation:\n",
    " All the zeros are moved to the end and non-negative integers are moved to front by maintaining order\n",
    "\n",
    "Example 2:\n",
    "Input:\n",
    " 1,2,0,1,0,4,0\n",
    "Output:\n",
    " 1,2,1,4,0,0,0\n",
    "Explanation:\n",
    " All the zeros are moved to the end and non-negative integers are moved to front by maintaining order"
   ]
  },
  {
   "cell_type": "code",
   "execution_count": 45,
   "metadata": {},
   "outputs": [
    {
     "data": {
      "text/plain": [
       "[1, 2, 3, 4, 1, 0, 0, 0]"
      ]
     },
     "execution_count": 45,
     "metadata": {},
     "output_type": "execute_result"
    }
   ],
   "source": [
    "def move_zeros(arr):\n",
    "    non_zero_index = 0\n",
    "    for i in range(len(arr)):\n",
    "        if arr[i]!=0:\n",
    "            arr[non_zero_index],arr[i] = arr[i],arr[non_zero_index]\n",
    "            non_zero_index+=1\n",
    "    return arr\n",
    "\n",
    "arr = [1 ,0 ,2 ,3 ,0 ,4 ,0 ,1]\n",
    "move_zeros(arr)"
   ]
  },
  {
   "cell_type": "markdown",
   "metadata": {},
   "source": [
    "## Union of Two Sorted Arrays"
   ]
  },
  {
   "cell_type": "markdown",
   "metadata": {},
   "source": [
    "#### Problem Statement: Given two sorted arrays, arr1, and arr2 of size n and m. Find the union of two sorted arrays.\n",
    "\n",
    "The union of two arrays can be defined as the common and distinct elements in the two arrays.NOTE: Elements in the union should be in ascending order.\n",
    "\n",
    "Examples\n",
    "Example 1:\n",
    "Input:\n",
    "\n",
    "n = 5,m = 5.\n",
    "arr1[] = {1,2,3,4,5}  \n",
    "arr2[] = {2,3,4,4,5}\n",
    "Output:\n",
    "\n",
    " {1,2,3,4,5}\n",
    "\n",
    "Explanation: \n",
    "\n",
    "Common Elements in arr1 and arr2  are:  2,3,4,5\n",
    "Distnict Elements in arr1 are : 1\n",
    "Distnict Elemennts in arr2 are : No distinct elements.\n",
    "Union of arr1 and arr2 is {1,2,3,4,5} \n",
    "\n",
    "Example 2:\n",
    "Input:\n",
    "\n",
    "n = 10,m = 7.\n",
    "arr1[] = {1,2,3,4,5,6,7,8,9,10}\n",
    "arr2[] = {2,3,4,4,5,11,12}\n",
    "Output:\n",
    " {1,2,3,4,5,6,7,8,9,10,11,12}\n",
    "Explanation:\n",
    " \n",
    "Common Elements in arr1 and arr2  are:  2,3,4,5\n",
    "Distnict Elements in arr1 are : 1,6,7,8,9,10\n",
    "Distnict Elemennts in arr2 are : 11,12\n",
    "Union of arr1 and arr2 is {1,2,3,4,5,6,7,8,9,10,11,12}"
   ]
  },
  {
   "cell_type": "code",
   "execution_count": 66,
   "metadata": {},
   "outputs": [
    {
     "data": {
      "text/plain": [
       "[1, 2, 3, 4, 5, 6, 7, 8, 9, 10, 11, 12]"
      ]
     },
     "execution_count": 66,
     "metadata": {},
     "output_type": "execute_result"
    }
   ],
   "source": [
    "def union(arr1,arr2):\n",
    "    arr = []\n",
    "    i,j = 0,0\n",
    "    while i < len(arr1) and j < len(arr2):\n",
    "        if arr1[i] <= arr2[j]:\n",
    "            if len(arr) == 0 or arr[-1] != arr1[i]:\n",
    "                arr.append(arr1[i])\n",
    "            i+=1\n",
    "        else:\n",
    "            if len(arr) == 0 or arr[-1] != arr2[j]:\n",
    "                arr.append(arr2[j])\n",
    "            j+=1\n",
    "            \n",
    "    while i < len(arr1):\n",
    "        if arr[-1] != arr1[i]:\n",
    "            arr.append(arr1[i])\n",
    "        i += 1\n",
    "    \n",
    "    while j < len(arr2):\n",
    "        if arr[-1] != arr2[j]:\n",
    "            arr.append(arr2[j])\n",
    "        j += 1\n",
    "\n",
    "    return arr\n",
    "arr1 = [1,2,3,4,5,6,7,8,9,10]\n",
    "arr2 = [2,3,4,4,5,11,12]\n",
    "union(arr1,arr2)\n",
    "    "
   ]
  },
  {
   "cell_type": "markdown",
   "metadata": {},
   "source": [
    "## Find the missing number in an array"
   ]
  },
  {
   "cell_type": "markdown",
   "metadata": {},
   "source": [
    "#### Problem Statement: Given an integer N and an array of size N-1 containing N-1 numbers between 1 to N. Find the number(between 1 to N), that is not present in the given array.\n",
    "\n",
    "Examples\n",
    "Example 1:\n",
    "Input Format:\n",
    " N = 5, array[] = {1,2,4,5}\n",
    "Result:\n",
    " 3\n",
    "Explanation: \n",
    "In the given array, number 3 is missing. So, 3 is the answer.\n",
    "\n",
    "Example 2:\n",
    "Input Format:\n",
    " N = 3, array[] = {1,3}\n",
    "Result:\n",
    " 2\n",
    "Explanation: \n",
    "In the given array, number 2 is missing. So, 2 is the answer"
   ]
  },
  {
   "cell_type": "code",
   "execution_count": 76,
   "metadata": {},
   "outputs": [
    {
     "data": {
      "text/plain": [
       "3"
      ]
     },
     "execution_count": 76,
     "metadata": {},
     "output_type": "execute_result"
    }
   ],
   "source": [
    "def find_missing_number(arr, n):\n",
    "    expected_sum = n * (n + 1) // 2\n",
    "    actual_sum = sum(arr)\n",
    "    missing_number = expected_sum - actual_sum\n",
    "    return missing_number\n",
    "\n",
    "n = 5\n",
    "arr = [1,2, 4, 5]\n",
    "find_missing_number(arr, n)"
   ]
  },
  {
   "cell_type": "markdown",
   "metadata": {},
   "source": [
    "## Count Maximum Consecutive One's in the array"
   ]
  },
  {
   "cell_type": "markdown",
   "metadata": {},
   "source": [
    "#### Problem Statement: Given an array that contains only 1 and 0 return the count of maximum consecutive ones in the array.\n",
    "\n",
    "Examples:\n",
    "\n",
    "Example 1:\n",
    "\n",
    "Input: prices = {1, 1, 0, 1, 1, 1}\n",
    "\n",
    "Output: 3\n",
    "\n",
    "Explanation: There are two consecutive 1’s and three consecutive 1’s in the array out of which maximum is 3.\n",
    "\n",
    "Input: prices = {1, 0, 1, 1, 0, 1} \n",
    "\n",
    "Output: 2\n",
    "\n",
    "Explanation: There are two consecutive 1's in the array. "
   ]
  },
  {
   "cell_type": "code",
   "execution_count": 85,
   "metadata": {},
   "outputs": [
    {
     "data": {
      "text/plain": [
       "3"
      ]
     },
     "execution_count": 85,
     "metadata": {},
     "output_type": "execute_result"
    }
   ],
   "source": [
    "def find_max_ones(arr):\n",
    "    cnt = 0\n",
    "    max = 0\n",
    "    for i in range(len(arr)):\n",
    "        if arr[i] == 1:\n",
    "            cnt+=1\n",
    "            if cnt > max:\n",
    "                max = cnt\n",
    "        else:\n",
    "            cnt = 0\n",
    "\n",
    "    return max\n",
    "\n",
    "arr = [1, 1, 0, 1, 1, 1]\n",
    "find_max_ones(arr)"
   ]
  },
  {
   "cell_type": "markdown",
   "metadata": {},
   "source": [
    "#### Find the number that appears once, and the other numbers twice"
   ]
  },
  {
   "cell_type": "markdown",
   "metadata": {},
   "source": [
    "#### Problem Statement: Given a non-empty array of integers arr, every element appears twice except for one. Find that single one.\n",
    "\n",
    "\n",
    "Example 1:\n",
    "Input Format:\n",
    " arr[] = {2,2,1}\n",
    "Result:\n",
    " 1\n",
    "Explanation:\n",
    " In this array, only the element 1 appear once and so it is the answer.\n",
    "\n",
    "Example 2:\n",
    "Input Format:\n",
    " arr[] = {4,1,2,1,2}\n",
    "Result:\n",
    " 4\n",
    "Explanation:\n",
    " In this array, only element 4 appear once and the other elements appear twice. So, 4 is the answer."
   ]
  },
  {
   "cell_type": "code",
   "execution_count": 3,
   "metadata": {},
   "outputs": [
    {
     "data": {
      "text/plain": [
       "4"
      ]
     },
     "execution_count": 3,
     "metadata": {},
     "output_type": "execute_result"
    }
   ],
   "source": [
    "def find_number(arr):\n",
    "    xorr = 0\n",
    "    for i in arr:\n",
    "        xorr^=i\n",
    "    return xorr\n",
    "\n",
    "arr = [4,1,2,1,2]\n",
    "find_number(arr)"
   ]
  },
  {
   "cell_type": "markdown",
   "metadata": {},
   "source": [
    "## Longest Subarray with given Sum K(Positives)"
   ]
  },
  {
   "cell_type": "markdown",
   "metadata": {},
   "source": [
    "#### Problem Statement: Given an array and a sum k, we need to print the length of the longest subarray that sums to k.\n",
    "\n",
    "Example 1:\n",
    "Input Format: N = 3, k = 5, array[] = {2,3,5}\n",
    "Result: 2\n",
    "Explanation: The longest subarray with sum 5 is {2, 3}. And its length is 2.\n",
    "\n",
    "Example 2:\n",
    "Input Format: N = 5, k = 10, array[] = {2,3,5,1,9}\n",
    "Result: 3\n",
    "Explanation: The longest subarray with sum 10 is {2, 3, 5}. And its length is 3."
   ]
  },
  {
   "cell_type": "code",
   "execution_count": 6,
   "metadata": {},
   "outputs": [
    {
     "data": {
      "text/plain": [
       "3"
      ]
     },
     "execution_count": 6,
     "metadata": {},
     "output_type": "execute_result"
    }
   ],
   "source": [
    "def longest_subarray(arr,k,n):\n",
    "    sum = arr[0]\n",
    "    len = 0\n",
    "    i,j = 0,0\n",
    "    while j < n:\n",
    "        while i <= j and sum > k:\n",
    "            sum-=arr[i]\n",
    "            i+=1\n",
    "        if sum == k:\n",
    "            len = max(len, j - i + 1)\n",
    "        j+=1\n",
    "        if j < n:\n",
    "            sum += arr[j]\n",
    "    return len\n",
    "\n",
    "arr = [2,3,5,1,9]\n",
    "k = 10\n",
    "n = 5\n",
    "longest_subarray(arr,k,n)"
   ]
  }
 ],
 "metadata": {
  "kernelspec": {
   "display_name": "Python 3",
   "language": "python",
   "name": "python3"
  },
  "language_info": {
   "codemirror_mode": {
    "name": "ipython",
    "version": 3
   },
   "file_extension": ".py",
   "mimetype": "text/x-python",
   "name": "python",
   "nbconvert_exporter": "python",
   "pygments_lexer": "ipython3",
   "version": "3.12.3"
  }
 },
 "nbformat": 4,
 "nbformat_minor": 2
}
