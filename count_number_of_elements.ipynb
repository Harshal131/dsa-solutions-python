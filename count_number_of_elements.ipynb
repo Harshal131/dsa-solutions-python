{
 "cells": [
  {
   "cell_type": "markdown",
   "metadata": {},
   "source": [
    "# Count frequency of each element"
   ]
  },
  {
   "cell_type": "markdown",
   "metadata": {},
   "source": [
    "#### Problem statement 1: Given a list, we have to find the number of occurrences of each element in the list.\n",
    "\n",
    "Examples:\n",
    "\n",
    "Example 1:\n",
    "Input: arr = [10,5,10,15,10,5];\n",
    "Output: 10  3\n",
    "\t 5  2\n",
    "        15  1\n",
    "Explanation: 10 occurs 3 times in the array\n",
    "\t      5 occurs 2 times in the array\n",
    "              15 occurs 1 time in the array\n",
    "\n",
    "Example2: \n",
    "Input: arr = [2,2,3,4,4,2];\n",
    "Output: 2  3\n",
    "\t3  1\n",
    "        4  2\n",
    "Explanation: 2 occurs 3 times in the array\n",
    "\t     3 occurs 1 time in the array\n",
    "             4 occurs 2 time in the array"
   ]
  },
  {
   "cell_type": "code",
   "execution_count": 47,
   "metadata": {},
   "outputs": [
    {
     "name": "stdout",
     "output_type": "stream",
     "text": [
      "10 3 5 2 15 1 "
     ]
    }
   ],
   "source": [
    "## Brute force approach\n",
    "arr = [10,5,10,15,10,5]\n",
    "def get_element_count(arr,n):\n",
    "    cnt = 0\n",
    "    for i in range(0,len(arr)):\n",
    "        if n == arr[i]:\n",
    "            cnt+=1\n",
    "    print (n, cnt, end=\" \")\n",
    "\n",
    "for i in set(arr):\n",
    "    get_element_count(arr,i)"
   ]
  },
  {
   "cell_type": "code",
   "execution_count": 48,
   "metadata": {},
   "outputs": [
    {
     "name": "stdout",
     "output_type": "stream",
     "text": [
      "10 3 5 2 15 1 "
     ]
    }
   ],
   "source": [
    "arr = [10,5,10,15,10,5]\n",
    "def get_element_count(arr,n):\n",
    "    arr_dict = {}\n",
    "    for i in range(n):\n",
    "        if arr[i] in arr_dict:\n",
    "            arr_dict[arr[i]] +=1\n",
    "        else:\n",
    "            arr_dict[arr[i]] = 1\n",
    "    for i in arr_dict:\n",
    "        print(i,arr_dict[i], end=\" \")\n",
    "\n",
    "get_element_count(arr,len(arr))"
   ]
  },
  {
   "cell_type": "markdown",
   "metadata": {},
   "source": [
    "# Problem Statement 2: Given a list of size N. Find the highest and lowest frequency element."
   ]
  },
  {
   "cell_type": "markdown",
   "metadata": {},
   "source": [
    "#### Find the highest/lowest frequency element\n",
    "\n",
    "Example 1:\n",
    "Input: arr = [10,5,10,15,10,5];\n",
    "Output: 10 15\n",
    "Explanation: The frequency of 10 is 3, i.e. the highest and the frequency of 15 is 1 i.e. the lowest.\n",
    "\n",
    "Example 2:\n",
    "\n",
    "Input: arr = [2,2,3,4,4,2];\n",
    "Output: 2 3\n",
    "Explanation: The frequency of 2 is 3, i.e. the highest and the frequency of 3 is 1 i.e. the lowest.\n"
   ]
  },
  {
   "cell_type": "code",
   "execution_count": 17,
   "metadata": {},
   "outputs": [
    {
     "name": "stdout",
     "output_type": "stream",
     "text": [
      "10 15\n"
     ]
    }
   ],
   "source": [
    "## Brute force approach\n",
    "arr = [10,5,10,15,10,5]\n",
    "def get_element_count(arr,n):\n",
    "    cnt = 0\n",
    "    for i in range(0,len(arr)):\n",
    "        if n == arr[i]:\n",
    "            cnt+=1\n",
    "    return cnt\n",
    "\n",
    "current_min_cnts = 0\n",
    "current_min_num = 0\n",
    "current_max_cnts = 0\n",
    "current_max_num = 0\n",
    "\n",
    "for i in set(arr):\n",
    "    cnt = get_element_count(arr,i)\n",
    "    if current_min_cnts == 0 and current_max_cnts == 0:\n",
    "        current_min_num ,current_min_cnts = current_max_num ,current_max_cnts = i,cnt\n",
    "    if cnt < current_min_cnts:\n",
    "        current_min_num,current_min_cnts = i,cnt\n",
    "    if cnt > current_max_cnts:\n",
    "        current_max_num,current_max_cnts = i,cnt\n",
    "print(current_max_num,current_min_num)"
   ]
  },
  {
   "cell_type": "code",
   "execution_count": 30,
   "metadata": {},
   "outputs": [
    {
     "name": "stdout",
     "output_type": "stream",
     "text": [
      "2 3\n"
     ]
    }
   ],
   "source": [
    "arr = [2,2,3,4,4,2]\n",
    "def get_freq_count(arr,n):\n",
    "    arr_dict = {}\n",
    "    current_min_cnts = 0\n",
    "    current_min_num = 0\n",
    "    current_max_cnts = 0\n",
    "    current_max_num = 0\n",
    "\n",
    "    for i in range(n):\n",
    "        if arr[i] in arr_dict:\n",
    "            arr_dict[arr[i]] +=1\n",
    "        else:\n",
    "            arr_dict[arr[i]] = 1\n",
    "    \n",
    "    for key,value in arr_dict.items():\n",
    "        if current_min_cnts == 0 and current_max_cnts == 0:\n",
    "            current_min_num ,current_min_cnts = current_max_num ,current_max_cnts = key,value\n",
    "        if value > current_max_cnts:\n",
    "            current_max_num ,current_max_cnts = key, value\n",
    "        if value < current_min_cnts:\n",
    "            current_min_num, current_min_cnts = key, value\n",
    "    return current_max_num,current_min_num            \n",
    "        \n",
    "max_num,min_num = get_freq_count(arr,len(arr))\n",
    "print(max_num,min_num)"
   ]
  }
 ],
 "metadata": {
  "kernelspec": {
   "display_name": "Python 3",
   "language": "python",
   "name": "python3"
  },
  "language_info": {
   "codemirror_mode": {
    "name": "ipython",
    "version": 3
   },
   "file_extension": ".py",
   "mimetype": "text/x-python",
   "name": "python",
   "nbconvert_exporter": "python",
   "pygments_lexer": "ipython3",
   "version": "3.12.3"
  }
 },
 "nbformat": 4,
 "nbformat_minor": 2
}
